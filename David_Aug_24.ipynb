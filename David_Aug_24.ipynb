{
  "nbformat": 4,
  "nbformat_minor": 0,
  "metadata": {
    "colab": {
      "name": "David - Aug 24.ipynb",
      "provenance": [],
      "authorship_tag": "ABX9TyPrm1lWPdGg1fGSjGCrhIj1",
      "include_colab_link": true
    },
    "kernelspec": {
      "name": "python3",
      "display_name": "Python 3"
    },
    "language_info": {
      "name": "python"
    }
  },
  "cells": [
    {
      "cell_type": "markdown",
      "metadata": {
        "id": "view-in-github",
        "colab_type": "text"
      },
      "source": [
        "<a href=\"https://colab.research.google.com/github/David-Hien/Unit-1/blob/main/David_Aug_24.ipynb\" target=\"_parent\"><img src=\"https://colab.research.google.com/assets/colab-badge.svg\" alt=\"Open In Colab\"/></a>"
      ]
    },
    {
      "cell_type": "code",
      "metadata": {
        "colab": {
          "base_uri": "https://localhost:8080/"
        },
        "id": "ujfpoLfTtqT4",
        "outputId": "c3f0a433-3576-4bd2-aa2d-e9c60f509143"
      },
      "source": [
        "n = range(2021)\n",
        "print(sum(n))"
      ],
      "execution_count": 2,
      "outputs": [
        {
          "output_type": "stream",
          "text": [
            "2041210\n"
          ],
          "name": "stdout"
        }
      ]
    },
    {
      "cell_type": "code",
      "metadata": {
        "colab": {
          "base_uri": "https://localhost:8080/"
        },
        "id": "HGNh3JPht5zT",
        "outputId": "1d1b2ddf-396f-4c6b-d3fc-b80f0989fa4f"
      },
      "source": [
        "a = input()\n",
        "n = 0\n",
        "for i in range(len(a)):\n",
        "  if a[i] in \"aiueoAIUEO\":\n",
        "    n += 1\n",
        "print(f\"Numbers of vowels in {a} is {n}\")"
      ],
      "execution_count": 1,
      "outputs": [
        {
          "output_type": "stream",
          "text": [
            "Hello world\n",
            "Numbers of vowels in Hello world is 3\n"
          ],
          "name": "stdout"
        }
      ]
    }
  ]
}