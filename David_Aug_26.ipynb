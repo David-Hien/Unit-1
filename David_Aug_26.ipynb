{
  "nbformat": 4,
  "nbformat_minor": 0,
  "metadata": {
    "colab": {
      "name": "David - Aug 26.ipynb",
      "provenance": [],
      "authorship_tag": "ABX9TyPq+RRxuVQX1u5Lc9qWFFB4",
      "include_colab_link": true
    },
    "kernelspec": {
      "name": "python3",
      "display_name": "Python 3"
    },
    "language_info": {
      "name": "python"
    }
  },
  "cells": [
    {
      "cell_type": "markdown",
      "metadata": {
        "id": "view-in-github",
        "colab_type": "text"
      },
      "source": [
        "<a href=\"https://colab.research.google.com/github/David-Hien/Unit-1/blob/main/David_Aug_26.ipynb\" target=\"_parent\"><img src=\"https://colab.research.google.com/assets/colab-badge.svg\" alt=\"Open In Colab\"/></a>"
      ]
    },
    {
      "cell_type": "code",
      "metadata": {
        "colab": {
          "base_uri": "https://localhost:8080/"
        },
        "id": "1dQQnMxyEqp-",
        "outputId": "5b40eddb-2f08-46f3-95ce-5c1c4086cf98"
      },
      "source": [
        "miles = int(input())\n",
        "print(f\"{miles} mile(s) is equal to {round(miles*1.609, 2)} km\")"
      ],
      "execution_count": 2,
      "outputs": [
        {
          "output_type": "stream",
          "text": [
            "100\n",
            "100 mile(s) is equal to 160.9 km\n"
          ],
          "name": "stdout"
        }
      ]
    },
    {
      "cell_type": "code",
      "metadata": {
        "colab": {
          "base_uri": "https://localhost:8080/"
        },
        "id": "nDnBRvUxFHwt",
        "outputId": "0543540e-e015-42f5-d7a1-f1876c8f1433"
      },
      "source": [
        "print(\"a:\")\n",
        "a = int(input())\n",
        "print(\"b:\")\n",
        "b = int(input())\n",
        "print(\"c:\")\n",
        "c = int(input())\n",
        "print((-b + (b ** 2 - 4 * a * c) ** 0.5) / (2 * a))\n",
        "print((-b - (b ** 2 - 4 * a * c) ** 0.5) / (2 * a))"
      ],
      "execution_count": 2,
      "outputs": [
        {
          "output_type": "stream",
          "text": [
            "a:\n",
            "3\n",
            "b:\n",
            "-9\n",
            "c:\n",
            "6\n",
            "2.0\n",
            "1.0\n"
          ],
          "name": "stdout"
        }
      ]
    },
    {
      "cell_type": "code",
      "metadata": {
        "colab": {
          "base_uri": "https://localhost:8080/"
        },
        "id": "fPD6CcOAHGJ1",
        "outputId": "f6dd31ff-6bcc-4a45-acf6-a831eeff05e8"
      },
      "source": [
        "n = (input())\n",
        "print(f\"{n} reversed is {n[::-1]}\")"
      ],
      "execution_count": 1,
      "outputs": [
        {
          "output_type": "stream",
          "text": [
            "123\n",
            "123 reversed is 321\n"
          ],
          "name": "stdout"
        }
      ]
    },
    {
      "cell_type": "code",
      "metadata": {
        "colab": {
          "base_uri": "https://localhost:8080/"
        },
        "id": "sJJbycwOIhir",
        "outputId": "996d0af1-d874-437d-c9dd-3b376ac13455"
      },
      "source": [
        "print(\"Name:\")\n",
        "name = input()\n",
        "print(\"Age:\")\n",
        "age = input()\n",
        "print(\"Nationality:\")\n",
        "nation = input()\n",
        "print(f\"Welcome {name} you are {age} years old and a national of {nation}\")"
      ],
      "execution_count": 1,
      "outputs": [
        {
          "output_type": "stream",
          "text": [
            "Name:\n",
            "John Doe\n",
            "Age:\n",
            "35\n",
            "Nationality:\n",
            "Columbia\n",
            "Welcome John Doe you are 35 years old and a national of Columbia\n"
          ],
          "name": "stdout"
        }
      ]
    },
    {
      "cell_type": "code",
      "metadata": {
        "colab": {
          "base_uri": "https://localhost:8080/"
        },
        "id": "S2agZRXzJMQd",
        "outputId": "86650bdb-087b-40dd-af9d-58fae6bbef39"
      },
      "source": [
        "cm = float(input())\n",
        "print(f\"{cm} cm is equal to {round(cm/2.54, 2)} inches\")"
      ],
      "execution_count": 1,
      "outputs": [
        {
          "output_type": "stream",
          "text": [
            "20\n",
            "20.0 is equal to 7.87 inches\n"
          ],
          "name": "stdout"
        }
      ]
    }
  ]
}