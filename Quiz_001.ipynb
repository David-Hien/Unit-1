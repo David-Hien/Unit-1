{
  "nbformat": 4,
  "nbformat_minor": 0,
  "metadata": {
    "colab": {
      "name": "Quiz 001.ipynb",
      "provenance": [],
      "authorship_tag": "ABX9TyON/fVle2+jY+7MOAJ2Fqqy",
      "include_colab_link": true
    },
    "kernelspec": {
      "name": "python3",
      "display_name": "Python 3"
    },
    "language_info": {
      "name": "python"
    }
  },
  "cells": [
    {
      "cell_type": "markdown",
      "metadata": {
        "id": "view-in-github",
        "colab_type": "text"
      },
      "source": [
        "<a href=\"https://colab.research.google.com/github/David-Hien/Unit-1/blob/main/Quiz_001.ipynb\" target=\"_parent\"><img src=\"https://colab.research.google.com/assets/colab-badge.svg\" alt=\"Open In Colab\"/></a>"
      ]
    },
    {
      "cell_type": "code",
      "metadata": {
        "id": "S72XN0oPd_lO"
      },
      "source": [
        "def Makes_20(num1, num2):\n",
        "  if num1 == 20 or num2 == 20 or num1 + num2 == 20:\n",
        "    return True\n",
        "  else:\n",
        "    return False\n",
        "\n",
        "\n",
        "print(Makes_20(14, 6))"
      ],
      "execution_count": null,
      "outputs": []
    }
  ]
}